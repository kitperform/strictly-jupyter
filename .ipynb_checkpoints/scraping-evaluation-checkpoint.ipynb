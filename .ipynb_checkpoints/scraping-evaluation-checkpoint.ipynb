{
 "cells": [
  {
   "cell_type": "code",
   "execution_count": null,
   "metadata": {},
   "outputs": [],
   "source": [
    "# import scrapy?\n",
    "# import beautiful soup?\n",
    "from bs4 import BeautifulSoup\n",
    "\n",
    "# scrape main wiki page\n",
    "# scrape series sub pages\n",
    "\n",
    "# map to tables\n",
    "\n",
    "# data analysis\n",
    "\n",
    "# what makes a successful contestant\n",
    "\n",
    "# sub trends"
   ]
  }
 ],
 "metadata": {
  "kernelspec": {
   "display_name": "Python 3 (ipykernel)",
   "language": "python",
   "name": "python3"
  },
  "language_info": {
   "codemirror_mode": {
    "name": "ipython",
    "version": 3
   },
   "file_extension": ".py",
   "mimetype": "text/x-python",
   "name": "python",
   "nbconvert_exporter": "python",
   "pygments_lexer": "ipython3",
   "version": "3.12.3"
  }
 },
 "nbformat": 4,
 "nbformat_minor": 4
}
