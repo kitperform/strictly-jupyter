{
 "cells": [
  {
   "cell_type": "code",
   "execution_count": null,
   "metadata": {},
   "outputs": [],
   "source": [
    "# import scrapy?\n",
    "# import beautiful soup?\n",
    "\n",
    "# scrape main wiki page\n",
    "# scrape series sub pages\n",
    "\n",
    "# map to tables\n",
    "\n",
    "# data analysis\n",
    "\n",
    "# what makes a successful contestant\n",
    "\n",
    "# sub trends"
   ]
  }
 ],
 "metadata": {
  "language_info": {
   "name": "python"
  }
 },
 "nbformat": 4,
 "nbformat_minor": 2
}
