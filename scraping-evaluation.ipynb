{
 "cells": [
  {
   "cell_type": "code",
   "execution_count": 1,
   "metadata": {},
   "outputs": [],
   "source": [
    "# Question: import scrapy? Answer: not now. Expecting Beautiful Soup to do the job\n",
    "# Question: import beautiful soup? Answer: Yes\n",
    "from bs4 import BeautifulSoup\n",
    "\n",
    "# outlines of approaches:\n",
    "# - scrape main wiki page\n",
    "# - scrape series sub pages\n",
    "#   - map to tables\n",
    "\n",
    "# data analysis goals\n",
    "#  - what makes a successful contestant?\n",
    "#  - sub trends\n",
    "\n",
    "with open(\"data/wikipedia/021/Strictly_Come_Dancing_series_21.html\") as fp:\n",
    "    soup = BeautifulSoup(fp, 'html.parser')"
   ]
  },
  {
   "cell_type": "code",
   "execution_count": null,
   "metadata": {},
   "outputs": [],
   "source": [
    "# "
   ]
  }
 ],
 "metadata": {
  "kernelspec": {
   "display_name": "Python 3 (ipykernel)",
   "language": "python",
   "name": "python3"
  },
  "language_info": {
   "codemirror_mode": {
    "name": "ipython",
    "version": 3
   },
   "file_extension": ".py",
   "mimetype": "text/x-python",
   "name": "python",
   "nbconvert_exporter": "python",
   "pygments_lexer": "ipython3",
   "version": "3.12.3"
  }
 },
 "nbformat": 4,
 "nbformat_minor": 4
}
