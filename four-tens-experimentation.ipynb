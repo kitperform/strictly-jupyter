{
 "cells": [
  {
   "cell_type": "code",
   "execution_count": 4,
   "id": "47629fb2-e7ce-49a4-b36d-871ad42174b0",
   "metadata": {},
   "outputs": [],
   "source": [
    "# celebrities.csv\n",
    "# professionals.csv\n",
    "# results.csv\n",
    "\n",
    "# path\n",
    "# ../other-projects/four-tens/strictly-come-dancing-results/\n",
    "\n",
    "# so\n",
    "\n",
    "# ../other-projects/four-tens/strictly-come-dancing-results/celebrities.csv\n",
    "# ../other-projects/four-tens/strictly-come-dancing-results/professionals.csv\n",
    "# ../other-projects/four-tens/strictly-come-dancing-results/results.csv"
   ]
  },
  {
   "cell_type": "code",
   "execution_count": 6,
   "id": "ac67bc02-3e77-4a5a-82b9-d74390cf59e8",
   "metadata": {},
   "outputs": [],
   "source": [
    "import pandas as pd \n",
    "\n",
    "celebs = pd.read_csv('../other-projects/four-tens/strictly-come-dancing-results/celebrities.csv')\n",
    "pros = pd.read_csv('../other-projects/four-tens/strictly-come-dancing-results/professionals.csv')\n",
    "results = pd.read_csv('../other-projects/four-tens/strictly-come-dancing-results/results.csv')\n"
   ]
  },
  {
   "cell_type": "code",
   "execution_count": null,
   "id": "6c73c037-5f76-4b16-abad-1ab20c9a6743",
   "metadata": {},
   "outputs": [],
   "source": []
  }
 ],
 "metadata": {
  "kernelspec": {
   "display_name": "Python 3 (ipykernel)",
   "language": "python",
   "name": "python3"
  },
  "language_info": {
   "codemirror_mode": {
    "name": "ipython",
    "version": 3
   },
   "file_extension": ".py",
   "mimetype": "text/x-python",
   "name": "python",
   "nbconvert_exporter": "python",
   "pygments_lexer": "ipython3",
   "version": "3.11.8"
  }
 },
 "nbformat": 4,
 "nbformat_minor": 5
}
